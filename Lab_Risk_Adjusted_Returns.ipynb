{
  "nbformat": 4,
  "nbformat_minor": 0,
  "metadata": {
    "colab": {
      "name": "Lab Risk Adjusted Returns.ipynb",
      "provenance": [],
      "authorship_tag": "ABX9TyPZhwdTTp/LJKWHgW3suVXn",
      "include_colab_link": true
    },
    "kernelspec": {
      "name": "python3",
      "display_name": "Python 3"
    }
  },
  "cells": [
    {
      "cell_type": "markdown",
      "metadata": {
        "id": "view-in-github",
        "colab_type": "text"
      },
      "source": [
        "<a href=\"https://colab.research.google.com/github/harshadindigal/Introduction_to_Porfoliio_Construction_and_Analysis_with_Python/blob/master/Lab_Risk_Adjusted_Returns.ipynb\" target=\"_parent\"><img src=\"https://colab.research.google.com/assets/colab-badge.svg\" alt=\"Open In Colab\"/></a>"
      ]
    },
    {
      "cell_type": "markdown",
      "metadata": {
        "id": "vIz1NdC2rNFy",
        "colab_type": "text"
      },
      "source": [
        "Part 1: Get the Data"
      ]
    },
    {
      "cell_type": "code",
      "metadata": {
        "id": "gbZOsJLUpIwP",
        "colab_type": "code",
        "colab": {}
      },
      "source": [
        "import requests \n",
        "import pandas as pd\n",
        "import time \n",
        "import datetime\n",
        "import matplotlib.pyplot as plt\n",
        "import matplotlib.dates as mdate\n",
        "import numpy as np"
      ],
      "execution_count": 32,
      "outputs": []
    },
    {
      "cell_type": "code",
      "metadata": {
        "id": "OkQNJcJ5p5gS",
        "colab_type": "code",
        "colab": {}
      },
      "source": [
        "def get_price_data(ticker, periodType, frequencyType, frequency, needExtendedHoursData):\n",
        "  endpoint = r\"https://api.tdameritrade.com/v1/marketdata/{}/pricehistory\".format(ticker)\n",
        "  payload = {'apikey': 'LTYN4O0OYOCVQOJANYFQUQUPZGAXNLGA',\n",
        "            'periodType':periodType,\n",
        "            'frequencyType': frequencyType,\n",
        "            'frequency':frequency,\n",
        "            'period':'1',\n",
        "            'needExtendedHoursData':needExtendedHoursData}\n",
        "  content = requests.get(url = endpoint, params = payload)\n",
        "  data = content.json()\n",
        "  test_data = pd.DataFrame.from_dict(data['candles'][0], orient='index')\n",
        "  test_data_1 = test_data.T\n",
        "  \n",
        "  for items in data['candles']:\n",
        "    temp = pd.DataFrame.from_dict(items, orient='index')\n",
        "    temp_1 = temp.T\n",
        "    test_data_1 = test_data_1.append(temp_1, ignore_index=True)\n",
        "  return test_data_1\n"
      ],
      "execution_count": 4,
      "outputs": []
    },
    {
      "cell_type": "code",
      "metadata": {
        "id": "TKv5K-1bqyvQ",
        "colab_type": "code",
        "colab": {}
      },
      "source": [
        "gold = get_price_data(\"GOLD\",'ytd','daily','1','false')\n",
        "silver = get_price_data('SLV','ytd','daily','1','false')\n",
        "spy = get_price_data('SPY','ytd','daily','1','false')\n",
        "tlt = get_price_data('TLT','ytd','daily','1','false')\n",
        "agg = get_price_data('AGG','ytd','daily','1','false')\n",
        "volatility = get_price_data('UVXY','ytd','daily','1','false')\n",
        "\n",
        "pd.set_option('float_format', '{:f}'.format)"
      ],
      "execution_count": 5,
      "outputs": []
    },
    {
      "cell_type": "code",
      "metadata": {
        "id": "oXW7d2_zq77s",
        "colab_type": "code",
        "colab": {}
      },
      "source": [
        "list_of_var = [gold,silver,spy,tlt,agg,volatility]\n",
        "for var in list_of_var:\n",
        "  var['datetime'] = pd.to_datetime(var['datetime'],unit='ms')"
      ],
      "execution_count": 6,
      "outputs": []
    },
    {
      "cell_type": "code",
      "metadata": {
        "id": "5eufBGHuq8yF",
        "colab_type": "code",
        "colab": {
          "base_uri": "https://localhost:8080/",
          "height": 289
        },
        "outputId": "ae25f9f8-e50d-4143-f6e4-c4da6d4e9b48"
      },
      "source": [
        "variables = [\"gold\",\"silver\",\"spy\",\"tlt\",\"agg\",\"uvxy\"]\n",
        "for x in range(len(variables)):\n",
        "  list_of_var[x][\"symbol\"] = variables[x]\n",
        "finish = pd.DataFrame()\n",
        "for x in range(len(variables)):\n",
        "  temp = list_of_var[x][['open','datetime',\"symbol\"]].iloc[1:]\n",
        "  finish = finish.append(temp)\n",
        "full_data = finish.pivot(index ='datetime', columns ='symbol')   \n",
        "print(full_data)"
      ],
      "execution_count": 7,
      "outputs": [
        {
          "output_type": "stream",
          "text": [
            "                          open            ...                     \n",
            "symbol                     agg      gold  ...        tlt      uvxy\n",
            "datetime                                  ...                     \n",
            "2020-01-02 06:00:00 112.680000 18.710000  ... 136.790000 12.360000\n",
            "2020-01-03 06:00:00 112.890000 18.930000  ... 138.270000 13.550000\n",
            "2020-01-06 06:00:00 113.130000 18.980000  ... 139.690000 13.650000\n",
            "2020-01-07 06:00:00 112.920000 18.390000  ... 138.220000 12.910000\n",
            "2020-01-08 06:00:00 112.850000 18.510000  ... 137.930000 12.550000\n",
            "...                        ...       ...  ...        ...       ...\n",
            "2020-07-21 05:00:00 119.100000 28.760000  ... 167.300000 24.930000\n",
            "2020-07-22 05:00:00 119.220000 28.650000  ... 168.260000 26.570000\n",
            "2020-07-23 05:00:00 119.350000 28.510000  ... 168.920000 25.480000\n",
            "2020-07-24 05:00:00 119.260000 28.120000  ... 169.010000 28.340000\n",
            "2020-07-27 05:00:00 119.400000 29.500000  ... 170.250000 26.670000\n",
            "\n",
            "[143 rows x 6 columns]\n"
          ],
          "name": "stdout"
        }
      ]
    },
    {
      "cell_type": "markdown",
      "metadata": {
        "id": "Hi7HxuNSr18E",
        "colab_type": "text"
      },
      "source": [
        "First order principles breakdown of Standard Devation"
      ]
    },
    {
      "cell_type": "code",
      "metadata": {
        "id": "9u-ZIDiur6ET",
        "colab_type": "code",
        "colab": {
          "base_uri": "https://localhost:8080/",
          "height": 153
        },
        "outputId": "cfa09d1e-d351-4929-82be-9b8edc3338d0"
      },
      "source": [
        "full_data.pct_change().std()"
      ],
      "execution_count": 9,
      "outputs": [
        {
          "output_type": "execute_result",
          "data": {
            "text/plain": [
              "      symbol\n",
              "open  agg      0.006106\n",
              "      gold     0.046834\n",
              "      silver   0.027175\n",
              "      spy      0.022407\n",
              "      tlt      0.016610\n",
              "      uvxy     0.123508\n",
              "dtype: float64"
            ]
          },
          "metadata": {
            "tags": []
          },
          "execution_count": 9
        }
      ]
    },
    {
      "cell_type": "code",
      "metadata": {
        "id": "11BP_ui6sGIM",
        "colab_type": "code",
        "colab": {
          "base_uri": "https://localhost:8080/",
          "height": 153
        },
        "outputId": "20af557f-975c-415d-c2c2-c0012cc3b667"
      },
      "source": [
        "deviations = full_data.pct_change() - full_data.pct_change().mean()\n",
        "squared_deviations = deviations**2\n",
        "variance = squared_deviations.mean()\n",
        "volatility = np.sqrt(variance)\n",
        "volatility"
      ],
      "execution_count": 12,
      "outputs": [
        {
          "output_type": "execute_result",
          "data": {
            "text/plain": [
              "      symbol\n",
              "open  agg      0.006085\n",
              "      gold     0.046669\n",
              "      silver   0.027079\n",
              "      spy      0.022328\n",
              "      tlt      0.016551\n",
              "      uvxy     0.123072\n",
              "dtype: float64"
            ]
          },
          "metadata": {
            "tags": []
          },
          "execution_count": 12
        }
      ]
    },
    {
      "cell_type": "markdown",
      "metadata": {
        "id": "jja7nmIHtFDD",
        "colab_type": "text"
      },
      "source": [
        "Why did a difference occur? The concept of **sample** std devation vs **population** std. devation, when calculating the mean of the differences of the observed values from the mean, the .std() method uses N-1 as the denominator, whereas we used N in the first order principles version, which represents a population paramter vs. sample statistic"
      ]
    },
    {
      "cell_type": "code",
      "metadata": {
        "id": "LsPV8jipsNz3",
        "colab_type": "code",
        "colab": {
          "base_uri": "https://localhost:8080/",
          "height": 153
        },
        "outputId": "2eb987fa-ee5e-4037-a96e-820f37b1e9c3"
      },
      "source": [
        "number_of_obs = full_data.pct_change().shape[0]\n",
        "variance2 = squared_deviations.sum()/(number_of_obs-2)\n",
        "#used 2 instead of 1 because 1st row is just Nans\n",
        "volatility2 = np.sqrt(variance2)\n",
        "volatility2 "
      ],
      "execution_count": 15,
      "outputs": [
        {
          "output_type": "execute_result",
          "data": {
            "text/plain": [
              "      symbol\n",
              "open  agg      0.006106\n",
              "      gold     0.046834\n",
              "      silver   0.027175\n",
              "      spy      0.022407\n",
              "      tlt      0.016610\n",
              "      uvxy     0.123508\n",
              "dtype: float64"
            ]
          },
          "metadata": {
            "tags": []
          },
          "execution_count": 15
        }
      ]
    },
    {
      "cell_type": "markdown",
      "metadata": {
        "id": "ZSpqD0WzyRg4",
        "colab_type": "text"
      },
      "source": [
        "Get data from Fama-French research website. The following dataset includes monthly returns for stocks grouped by various market cap communities from 1929 to 2018"
      ]
    },
    {
      "cell_type": "code",
      "metadata": {
        "id": "yvMz7cCAyRDV",
        "colab_type": "code",
        "colab": {
          "base_uri": "https://localhost:8080/",
          "height": 34
        },
        "outputId": "cb92d5fe-dc55-4497-f236-b0e0355a3e0c"
      },
      "source": [
        "from google.colab import drive\n",
        "drive.mount(\"/content/gdrive\")"
      ],
      "execution_count": 23,
      "outputs": [
        {
          "output_type": "stream",
          "text": [
            "Mounted at /content/gdrive\n"
          ],
          "name": "stdout"
        }
      ]
    },
    {
      "cell_type": "code",
      "metadata": {
        "id": "rf3dVAS1yqm9",
        "colab_type": "code",
        "colab": {}
      },
      "source": [
        "data = pd.read_csv(\"/content/gdrive/My Drive/Finance Coursera/Portfolios_Formed_on_ME_monthly_EW.csv\",header=0, index_col = 0, parse_dates = True, na_values = -99.99)"
      ],
      "execution_count": 117,
      "outputs": []
    },
    {
      "cell_type": "code",
      "metadata": {
        "id": "aro8cfEGy9R5",
        "colab_type": "code",
        "colab": {
          "base_uri": "https://localhost:8080/",
          "height": 241
        },
        "outputId": "1f0ed2ce-2538-4ad6-e0cb-250138c902cc"
      },
      "source": [
        "data.head()"
      ],
      "execution_count": 118,
      "outputs": [
        {
          "output_type": "execute_result",
          "data": {
            "text/html": [
              "<div>\n",
              "<style scoped>\n",
              "    .dataframe tbody tr th:only-of-type {\n",
              "        vertical-align: middle;\n",
              "    }\n",
              "\n",
              "    .dataframe tbody tr th {\n",
              "        vertical-align: top;\n",
              "    }\n",
              "\n",
              "    .dataframe thead th {\n",
              "        text-align: right;\n",
              "    }\n",
              "</style>\n",
              "<table border=\"1\" class=\"dataframe\">\n",
              "  <thead>\n",
              "    <tr style=\"text-align: right;\">\n",
              "      <th></th>\n",
              "      <th>&lt;= 0</th>\n",
              "      <th>Lo 30</th>\n",
              "      <th>Med 40</th>\n",
              "      <th>Hi 30</th>\n",
              "      <th>Lo 20</th>\n",
              "      <th>Qnt 2</th>\n",
              "      <th>Qnt 3</th>\n",
              "      <th>Qnt 4</th>\n",
              "      <th>Hi 20</th>\n",
              "      <th>Lo 10</th>\n",
              "      <th>Dec 2</th>\n",
              "      <th>Dec 3</th>\n",
              "      <th>Dec 4</th>\n",
              "      <th>Dec 5</th>\n",
              "      <th>Dec 6</th>\n",
              "      <th>Dec 7</th>\n",
              "      <th>Dec 8</th>\n",
              "      <th>Dec 9</th>\n",
              "      <th>Hi 10</th>\n",
              "    </tr>\n",
              "  </thead>\n",
              "  <tbody>\n",
              "    <tr>\n",
              "      <th>192607</th>\n",
              "      <td>nan</td>\n",
              "      <td>-0.430000</td>\n",
              "      <td>1.520000</td>\n",
              "      <td>2.680000</td>\n",
              "      <td>-0.570000</td>\n",
              "      <td>0.590000</td>\n",
              "      <td>1.600000</td>\n",
              "      <td>1.470000</td>\n",
              "      <td>3.330000</td>\n",
              "      <td>-1.450000</td>\n",
              "      <td>0.290000</td>\n",
              "      <td>-0.150000</td>\n",
              "      <td>1.330000</td>\n",
              "      <td>1.240000</td>\n",
              "      <td>1.980000</td>\n",
              "      <td>1.550000</td>\n",
              "      <td>1.380000</td>\n",
              "      <td>3.380000</td>\n",
              "      <td>3.290000</td>\n",
              "    </tr>\n",
              "    <tr>\n",
              "      <th>192608</th>\n",
              "      <td>nan</td>\n",
              "      <td>3.900000</td>\n",
              "      <td>3.040000</td>\n",
              "      <td>2.090000</td>\n",
              "      <td>3.840000</td>\n",
              "      <td>3.590000</td>\n",
              "      <td>3.710000</td>\n",
              "      <td>1.610000</td>\n",
              "      <td>2.330000</td>\n",
              "      <td>5.120000</td>\n",
              "      <td>2.590000</td>\n",
              "      <td>4.030000</td>\n",
              "      <td>3.150000</td>\n",
              "      <td>2.720000</td>\n",
              "      <td>4.720000</td>\n",
              "      <td>1.600000</td>\n",
              "      <td>1.630000</td>\n",
              "      <td>0.980000</td>\n",
              "      <td>3.700000</td>\n",
              "    </tr>\n",
              "    <tr>\n",
              "      <th>192609</th>\n",
              "      <td>nan</td>\n",
              "      <td>-1.080000</td>\n",
              "      <td>-0.540000</td>\n",
              "      <td>0.160000</td>\n",
              "      <td>-0.480000</td>\n",
              "      <td>-1.400000</td>\n",
              "      <td>0.000000</td>\n",
              "      <td>-0.500000</td>\n",
              "      <td>-0.090000</td>\n",
              "      <td>0.930000</td>\n",
              "      <td>-1.870000</td>\n",
              "      <td>-2.270000</td>\n",
              "      <td>-0.530000</td>\n",
              "      <td>0.070000</td>\n",
              "      <td>-0.070000</td>\n",
              "      <td>-1.640000</td>\n",
              "      <td>0.640000</td>\n",
              "      <td>-0.860000</td>\n",
              "      <td>0.670000</td>\n",
              "    </tr>\n",
              "    <tr>\n",
              "      <th>192610</th>\n",
              "      <td>nan</td>\n",
              "      <td>-3.320000</td>\n",
              "      <td>-3.520000</td>\n",
              "      <td>-3.060000</td>\n",
              "      <td>-3.290000</td>\n",
              "      <td>-4.100000</td>\n",
              "      <td>-2.890000</td>\n",
              "      <td>-3.360000</td>\n",
              "      <td>-2.950000</td>\n",
              "      <td>-4.840000</td>\n",
              "      <td>-1.770000</td>\n",
              "      <td>-3.360000</td>\n",
              "      <td>-4.830000</td>\n",
              "      <td>-2.980000</td>\n",
              "      <td>-2.800000</td>\n",
              "      <td>-3.450000</td>\n",
              "      <td>-3.270000</td>\n",
              "      <td>-3.470000</td>\n",
              "      <td>-2.430000</td>\n",
              "    </tr>\n",
              "    <tr>\n",
              "      <th>192611</th>\n",
              "      <td>nan</td>\n",
              "      <td>-0.460000</td>\n",
              "      <td>3.820000</td>\n",
              "      <td>3.090000</td>\n",
              "      <td>-0.550000</td>\n",
              "      <td>2.180000</td>\n",
              "      <td>3.410000</td>\n",
              "      <td>3.390000</td>\n",
              "      <td>3.160000</td>\n",
              "      <td>-0.780000</td>\n",
              "      <td>-0.320000</td>\n",
              "      <td>-0.290000</td>\n",
              "      <td>4.650000</td>\n",
              "      <td>3.240000</td>\n",
              "      <td>3.570000</td>\n",
              "      <td>3.820000</td>\n",
              "      <td>2.950000</td>\n",
              "      <td>3.610000</td>\n",
              "      <td>2.700000</td>\n",
              "    </tr>\n",
              "  </tbody>\n",
              "</table>\n",
              "</div>"
            ],
            "text/plain": [
              "        <= 0     Lo 30    Med 40  ...     Dec 8     Dec 9     Hi 10\n",
              "192607   nan -0.430000  1.520000  ...  1.380000  3.380000  3.290000\n",
              "192608   nan  3.900000  3.040000  ...  1.630000  0.980000  3.700000\n",
              "192609   nan -1.080000 -0.540000  ...  0.640000 -0.860000  0.670000\n",
              "192610   nan -3.320000 -3.520000  ... -3.270000 -3.470000 -2.430000\n",
              "192611   nan -0.460000  3.820000  ...  2.950000  3.610000  2.700000\n",
              "\n",
              "[5 rows x 19 columns]"
            ]
          },
          "metadata": {
            "tags": []
          },
          "execution_count": 118
        }
      ]
    },
    {
      "cell_type": "code",
      "metadata": {
        "id": "5Xy_j33pzxYS",
        "colab_type": "code",
        "colab": {
          "base_uri": "https://localhost:8080/",
          "height": 34
        },
        "outputId": "acef8bd6-9281-442c-a3ac-b05b36b20b78"
      },
      "source": [
        "data.shape"
      ],
      "execution_count": 119,
      "outputs": [
        {
          "output_type": "execute_result",
          "data": {
            "text/plain": [
              "(1110, 19)"
            ]
          },
          "metadata": {
            "tags": []
          },
          "execution_count": 119
        }
      ]
    },
    {
      "cell_type": "code",
      "metadata": {
        "id": "WCTIYR3Bz1KP",
        "colab_type": "code",
        "colab": {
          "base_uri": "https://localhost:8080/",
          "height": 204
        },
        "outputId": "6b6fe47f-9ff3-42f9-b4a3-afb7fb385da1"
      },
      "source": [
        "columns = ['Lo 20', 'Qnt 2', 'Qnt 3', 'Qnt 4','Hi 20']\n",
        "data = data[columns]\n",
        "data.head()"
      ],
      "execution_count": 120,
      "outputs": [
        {
          "output_type": "execute_result",
          "data": {
            "text/html": [
              "<div>\n",
              "<style scoped>\n",
              "    .dataframe tbody tr th:only-of-type {\n",
              "        vertical-align: middle;\n",
              "    }\n",
              "\n",
              "    .dataframe tbody tr th {\n",
              "        vertical-align: top;\n",
              "    }\n",
              "\n",
              "    .dataframe thead th {\n",
              "        text-align: right;\n",
              "    }\n",
              "</style>\n",
              "<table border=\"1\" class=\"dataframe\">\n",
              "  <thead>\n",
              "    <tr style=\"text-align: right;\">\n",
              "      <th></th>\n",
              "      <th>Lo 20</th>\n",
              "      <th>Qnt 2</th>\n",
              "      <th>Qnt 3</th>\n",
              "      <th>Qnt 4</th>\n",
              "      <th>Hi 20</th>\n",
              "    </tr>\n",
              "  </thead>\n",
              "  <tbody>\n",
              "    <tr>\n",
              "      <th>192607</th>\n",
              "      <td>-0.570000</td>\n",
              "      <td>0.590000</td>\n",
              "      <td>1.600000</td>\n",
              "      <td>1.470000</td>\n",
              "      <td>3.330000</td>\n",
              "    </tr>\n",
              "    <tr>\n",
              "      <th>192608</th>\n",
              "      <td>3.840000</td>\n",
              "      <td>3.590000</td>\n",
              "      <td>3.710000</td>\n",
              "      <td>1.610000</td>\n",
              "      <td>2.330000</td>\n",
              "    </tr>\n",
              "    <tr>\n",
              "      <th>192609</th>\n",
              "      <td>-0.480000</td>\n",
              "      <td>-1.400000</td>\n",
              "      <td>0.000000</td>\n",
              "      <td>-0.500000</td>\n",
              "      <td>-0.090000</td>\n",
              "    </tr>\n",
              "    <tr>\n",
              "      <th>192610</th>\n",
              "      <td>-3.290000</td>\n",
              "      <td>-4.100000</td>\n",
              "      <td>-2.890000</td>\n",
              "      <td>-3.360000</td>\n",
              "      <td>-2.950000</td>\n",
              "    </tr>\n",
              "    <tr>\n",
              "      <th>192611</th>\n",
              "      <td>-0.550000</td>\n",
              "      <td>2.180000</td>\n",
              "      <td>3.410000</td>\n",
              "      <td>3.390000</td>\n",
              "      <td>3.160000</td>\n",
              "    </tr>\n",
              "  </tbody>\n",
              "</table>\n",
              "</div>"
            ],
            "text/plain": [
              "           Lo 20     Qnt 2     Qnt 3     Qnt 4     Hi 20\n",
              "192607 -0.570000  0.590000  1.600000  1.470000  3.330000\n",
              "192608  3.840000  3.590000  3.710000  1.610000  2.330000\n",
              "192609 -0.480000 -1.400000  0.000000 -0.500000 -0.090000\n",
              "192610 -3.290000 -4.100000 -2.890000 -3.360000 -2.950000\n",
              "192611 -0.550000  2.180000  3.410000  3.390000  3.160000"
            ]
          },
          "metadata": {
            "tags": []
          },
          "execution_count": 120
        }
      ]
    },
    {
      "cell_type": "code",
      "metadata": {
        "id": "azxgly8C1hjB",
        "colab_type": "code",
        "colab": {
          "base_uri": "https://localhost:8080/",
          "height": 204
        },
        "outputId": "2ba66134-3aef-4219-8392-c8af4632f89a"
      },
      "source": [
        "data = data/100\n",
        "data.head()"
      ],
      "execution_count": 121,
      "outputs": [
        {
          "output_type": "execute_result",
          "data": {
            "text/html": [
              "<div>\n",
              "<style scoped>\n",
              "    .dataframe tbody tr th:only-of-type {\n",
              "        vertical-align: middle;\n",
              "    }\n",
              "\n",
              "    .dataframe tbody tr th {\n",
              "        vertical-align: top;\n",
              "    }\n",
              "\n",
              "    .dataframe thead th {\n",
              "        text-align: right;\n",
              "    }\n",
              "</style>\n",
              "<table border=\"1\" class=\"dataframe\">\n",
              "  <thead>\n",
              "    <tr style=\"text-align: right;\">\n",
              "      <th></th>\n",
              "      <th>Lo 20</th>\n",
              "      <th>Qnt 2</th>\n",
              "      <th>Qnt 3</th>\n",
              "      <th>Qnt 4</th>\n",
              "      <th>Hi 20</th>\n",
              "    </tr>\n",
              "  </thead>\n",
              "  <tbody>\n",
              "    <tr>\n",
              "      <th>192607</th>\n",
              "      <td>-0.005700</td>\n",
              "      <td>0.005900</td>\n",
              "      <td>0.016000</td>\n",
              "      <td>0.014700</td>\n",
              "      <td>0.033300</td>\n",
              "    </tr>\n",
              "    <tr>\n",
              "      <th>192608</th>\n",
              "      <td>0.038400</td>\n",
              "      <td>0.035900</td>\n",
              "      <td>0.037100</td>\n",
              "      <td>0.016100</td>\n",
              "      <td>0.023300</td>\n",
              "    </tr>\n",
              "    <tr>\n",
              "      <th>192609</th>\n",
              "      <td>-0.004800</td>\n",
              "      <td>-0.014000</td>\n",
              "      <td>0.000000</td>\n",
              "      <td>-0.005000</td>\n",
              "      <td>-0.000900</td>\n",
              "    </tr>\n",
              "    <tr>\n",
              "      <th>192610</th>\n",
              "      <td>-0.032900</td>\n",
              "      <td>-0.041000</td>\n",
              "      <td>-0.028900</td>\n",
              "      <td>-0.033600</td>\n",
              "      <td>-0.029500</td>\n",
              "    </tr>\n",
              "    <tr>\n",
              "      <th>192611</th>\n",
              "      <td>-0.005500</td>\n",
              "      <td>0.021800</td>\n",
              "      <td>0.034100</td>\n",
              "      <td>0.033900</td>\n",
              "      <td>0.031600</td>\n",
              "    </tr>\n",
              "  </tbody>\n",
              "</table>\n",
              "</div>"
            ],
            "text/plain": [
              "           Lo 20     Qnt 2     Qnt 3     Qnt 4     Hi 20\n",
              "192607 -0.005700  0.005900  0.016000  0.014700  0.033300\n",
              "192608  0.038400  0.035900  0.037100  0.016100  0.023300\n",
              "192609 -0.004800 -0.014000  0.000000 -0.005000 -0.000900\n",
              "192610 -0.032900 -0.041000 -0.028900 -0.033600 -0.029500\n",
              "192611 -0.005500  0.021800  0.034100  0.033900  0.031600"
            ]
          },
          "metadata": {
            "tags": []
          },
          "execution_count": 121
        }
      ]
    },
    {
      "cell_type": "code",
      "metadata": {
        "id": "VOBIjBR41nA6",
        "colab_type": "code",
        "colab": {
          "base_uri": "https://localhost:8080/",
          "height": 282
        },
        "outputId": "00630aa4-85c4-4ff3-fcec-0f9e250ff8ca"
      },
      "source": [
        "data.plot.line()\n",
        "#data.columns = [\"SmallCap\",\"LargeCap\"]"
      ],
      "execution_count": 122,
      "outputs": [
        {
          "output_type": "execute_result",
          "data": {
            "text/plain": [
              "<matplotlib.axes._subplots.AxesSubplot at 0x7f04294fd780>"
            ]
          },
          "metadata": {
            "tags": []
          },
          "execution_count": 122
        },
        {
          "output_type": "display_data",
          "data": {
            "image/png": "[encoded data removed]",
            "text/plain": [
              "<Figure size 432x288 with 1 Axes>"
            ]
          },
          "metadata": {
            "tags": [],
            "needs_background": "light"
          }
        }
      ]
    },
    {
      "cell_type": "code",
      "metadata": {
        "id": "fTYcvifm1-bq",
        "colab_type": "code",
        "colab": {
          "base_uri": "https://localhost:8080/",
          "height": 119
        },
        "outputId": "f0221e25-e005-46d0-9399-f89c2d00e9e8"
      },
      "source": [
        "data.std()"
      ],
      "execution_count": 123,
      "outputs": [
        {
          "output_type": "execute_result",
          "data": {
            "text/plain": [
              "Lo 20   0.097197\n",
              "Qnt 2   0.079290\n",
              "Qnt 3   0.070483\n",
              "Qnt 4   0.063937\n",
              "Hi 20   0.056325\n",
              "dtype: float64"
            ]
          },
          "metadata": {
            "tags": []
          },
          "execution_count": 123
        }
      ]
    },
    {
      "cell_type": "code",
      "metadata": {
        "id": "z6RamitL2CHL",
        "colab_type": "code",
        "colab": {
          "base_uri": "https://localhost:8080/",
          "height": 119
        },
        "outputId": "1b3d13d2-9f72-4442-8fef-92a521e7ed79"
      },
      "source": [
        "#Annualized Volatility\n",
        "annualized_vol = data.std()*np.sqrt(12)\n",
        "annualized_vol"
      ],
      "execution_count": 124,
      "outputs": [
        {
          "output_type": "execute_result",
          "data": {
            "text/plain": [
              "Lo 20   0.336701\n",
              "Qnt 2   0.274667\n",
              "Qnt 3   0.244160\n",
              "Qnt 4   0.221486\n",
              "Hi 20   0.195116\n",
              "dtype: float64"
            ]
          },
          "metadata": {
            "tags": []
          },
          "execution_count": 124
        }
      ]
    },
    {
      "cell_type": "code",
      "metadata": {
        "id": "eJhNZvgK2Ulc",
        "colab_type": "code",
        "colab": {
          "base_uri": "https://localhost:8080/",
          "height": 119
        },
        "outputId": "acb6f257-5b43-4f22-ec76-bdbbafbf8b15"
      },
      "source": [
        "#Compounded Monthly Growth Rate\n",
        "n_months = data.shape[0]\n",
        "return_per_month = (data +1).prod()**(1/n_months) -1 \n",
        "return_per_month"
      ],
      "execution_count": 125,
      "outputs": [
        {
          "output_type": "execute_result",
          "data": {
            "text/plain": [
              "Lo 20   0.011860\n",
              "Qnt 2   0.009469\n",
              "Qnt 3   0.009159\n",
              "Qnt 4   0.008696\n",
              "Hi 20   0.007859\n",
              "dtype: float64"
            ]
          },
          "metadata": {
            "tags": []
          },
          "execution_count": 125
        }
      ]
    },
    {
      "cell_type": "code",
      "metadata": {
        "id": "sYe92z4k3MqA",
        "colab_type": "code",
        "colab": {
          "base_uri": "https://localhost:8080/",
          "height": 119
        },
        "outputId": "d3d3af46-2ed6-47f3-c80d-9af2ac2a0ccf"
      },
      "source": [
        "#Annualized Return \n",
        "Annual_Return0 = (return_per_month + 1)**(12) -1\n",
        "Annual_Return = ((data +1).prod()**(12/n_months))-1\n",
        "Annual_Return\n",
        "#Annual_Return0"
      ],
      "execution_count": 126,
      "outputs": [
        {
          "output_type": "execute_result",
          "data": {
            "text/plain": [
              "Lo 20   0.151977\n",
              "Qnt 2   0.119742\n",
              "Qnt 3   0.115613\n",
              "Qnt 4   0.109488\n",
              "Hi 20   0.098490\n",
              "dtype: float64"
            ]
          },
          "metadata": {
            "tags": []
          },
          "execution_count": 126
        }
      ]
    },
    {
      "cell_type": "code",
      "metadata": {
        "id": "pVIsNgSt4Rcd",
        "colab_type": "code",
        "colab": {
          "base_uri": "https://localhost:8080/",
          "height": 119
        },
        "outputId": "4ec0ad1d-bc17-426e-c70a-d7b0d4055247"
      },
      "source": [
        "#Basic Return/Risk Ration\n",
        "Annual_Return/annualized_vol"
      ],
      "execution_count": 127,
      "outputs": [
        {
          "output_type": "execute_result",
          "data": {
            "text/plain": [
              "Lo 20   0.451370\n",
              "Qnt 2   0.435953\n",
              "Qnt 3   0.473514\n",
              "Qnt 4   0.494332\n",
              "Hi 20   0.504778\n",
              "dtype: float64"
            ]
          },
          "metadata": {
            "tags": []
          },
          "execution_count": 127
        }
      ]
    },
    {
      "cell_type": "code",
      "metadata": {
        "id": "0MzSyfw-4YSk",
        "colab_type": "code",
        "colab": {
          "base_uri": "https://localhost:8080/",
          "height": 119
        },
        "outputId": "b57daef7-6b2e-42f3-bf80-df878c943740"
      },
      "source": [
        "#Sharpe Reation \n",
        "riskfree_rate = 0.03 \n",
        "excess_return = Annual_Return - riskfree_rate\n",
        "Sharpe_Ratio = excess_return/annualized_vol\n",
        "Sharpe_Ratio"
      ],
      "execution_count": 128,
      "outputs": [
        {
          "output_type": "execute_result",
          "data": {
            "text/plain": [
              "Lo 20   0.362271\n",
              "Qnt 2   0.326730\n",
              "Qnt 3   0.350643\n",
              "Qnt 4   0.358883\n",
              "Hi 20   0.351023\n",
              "dtype: float64"
            ]
          },
          "metadata": {
            "tags": []
          },
          "execution_count": 128
        }
      ]
    },
    {
      "cell_type": "markdown",
      "metadata": {
        "id": "hgBPnl_x5Imm",
        "colab_type": "text"
      },
      "source": [
        "\n",
        "\n",
        "```\n",
        "Homework for Lab: Try out same analysis on 5 quintiles```\n",
        "\n"
      ]
    }
  ]
}